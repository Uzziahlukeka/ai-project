{
 "cells": [
  {
   "cell_type": "code",
   "execution_count": 2,
   "metadata": {},
   "outputs": [
    {
     "name": "stdout",
     "output_type": "stream",
     "text": [
      "Missing Values:\n",
      " Category    0\n",
      "Message     0\n",
      "dtype: int64\n",
      "Class Weights: [0.57740933 3.72958501]\n"
     ]
    },
    {
     "data": {
      "image/png": "[encoded data removed]",
      "text/plain": [
       "<Figure size 640x480 with 1 Axes>"
      ]
     },
     "metadata": {},
     "output_type": "display_data"
    },
    {
     "name": "stdout",
     "output_type": "stream",
     "text": [
      "Classification Report:\n",
      "              precision    recall  f1-score   support\n",
      "\n",
      "           0       0.99      0.99      0.99       947\n",
      "           1       0.97      0.92      0.95       168\n",
      "\n",
      "    accuracy                           0.98      1115\n",
      "   macro avg       0.98      0.96      0.97      1115\n",
      "weighted avg       0.98      0.98      0.98      1115\n",
      "\n",
      "Classification Report:\n",
      "              precision    recall  f1-score   support\n",
      "\n",
      "           0       0.99      1.00      0.99       974\n",
      "           1       0.97      0.91      0.94       141\n",
      "\n",
      "    accuracy                           0.99      1115\n",
      "   macro avg       0.98      0.96      0.97      1115\n",
      "weighted avg       0.99      0.99      0.99      1115\n",
      "\n",
      "Classification Report:\n",
      "              precision    recall  f1-score   support\n",
      "\n",
      "           0       0.98      1.00      0.99       977\n",
      "           1       1.00      0.88      0.94       137\n",
      "\n",
      "    accuracy                           0.99      1114\n",
      "   macro avg       0.99      0.94      0.96      1114\n",
      "weighted avg       0.99      0.99      0.99      1114\n",
      "\n",
      "Classification Report:\n",
      "              precision    recall  f1-score   support\n",
      "\n",
      "           0       0.98      1.00      0.99       958\n",
      "           1       0.98      0.89      0.93       156\n",
      "\n",
      "    accuracy                           0.98      1114\n",
      "   macro avg       0.98      0.94      0.96      1114\n",
      "weighted avg       0.98      0.98      0.98      1114\n",
      "\n",
      "Classification Report:\n",
      "              precision    recall  f1-score   support\n",
      "\n",
      "           0       0.99      0.99      0.99       969\n",
      "           1       0.94      0.94      0.94       145\n",
      "\n",
      "    accuracy                           0.99      1114\n",
      "   macro avg       0.97      0.97      0.97      1114\n",
      "weighted avg       0.99      0.99      0.99      1114\n",
      "\n"
     ]
    }
   ],
   "source": [
    "import pandas as pd\n",
    "import numpy as np\n",
    "from sklearn.utils.class_weight import compute_class_weight\n",
    "import matplotlib.pyplot as plt\n",
    "import seaborn as sns\n",
    "from sklearn.model_selection import train_test_split, KFold\n",
    "from sklearn.feature_extraction.text import CountVectorizer\n",
    "from sklearn.naive_bayes import MultinomialNB\n",
    "from sklearn.metrics import classification_report\n",
    "\n",
    "# Load the data\n",
    "data2_chemin = 'data/spam.csv'\n",
    "data2 = pd.read_csv(data2_chemin)\n",
    "\n",
    "# Check for missing values\n",
    "missing_values = data2.isnull().sum()\n",
    "print(\"Missing Values:\\n\", missing_values)\n",
    "\n",
    "data2['spam'] = data2['Category'].apply(lambda x: 1 if x =='spam' else 0)\n",
    "\n",
    "# Compute class weights for class imbalance\n",
    "class_weights = compute_class_weight('balanced', classes=np.unique(data2['spam']), y=data2['spam'])\n",
    "print(\"Class Weights:\", class_weights)\n",
    "\n",
    "# Visualize class distributions\n",
    "sns.countplot(x=data2['spam'])\n",
    "plt.show()\n",
    "\n",
    "# Prepare training and testing sets with K-Fold Cross Validation\n",
    "kf = KFold(n_splits=5)\n",
    "\n",
    "for train_index, test_index in kf.split(data2):\n",
    "    train_data, test_data = data2.iloc[train_index], data2.iloc[test_index]\n",
    "    \n",
    "    X_train, X_test = train_data['Message'], test_data['Message']\n",
    "    y_train, y_test = train_data['spam'], test_data['spam']\n",
    "    \n",
    "    # Feature extraction using CountVectorizer\n",
    "    data = CountVectorizer()\n",
    "    X_train_cv = data.fit_transform(X_train.values)\n",
    "    \n",
    "    # Train the Naive Bayes model\n",
    "    model = MultinomialNB()\n",
    "    model.fit(X_train_cv, y_train)\n",
    "    \n",
    "    # Evaluate model performance\n",
    "    X_test_cv = data.transform(X_test)\n",
    "    y_pred = model.predict(X_test_cv)\n",
    "    \n",
    "    print(\"Classification Report:\")\n",
    "    print(classification_report(y_test, y_pred))\n"
   ]
  }
 ],
 "metadata": {
  "kernelspec": {
   "display_name": "Python 3 (ipykernel)",
   "language": "python",
   "name": "python3"
  },
  "language_info": {
   "codemirror_mode": {
    "name": "ipython",
    "version": 3
   },
   "file_extension": ".py",
   "mimetype": "text/x-python",
   "name": "python",
   "nbconvert_exporter": "python",
   "pygments_lexer": "ipython3",
   "version": "3.11.5"
  }
 },
 "nbformat": 4,
 "nbformat_minor": 2
}
